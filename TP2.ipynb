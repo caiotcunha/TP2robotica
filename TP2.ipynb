{
 "cells": [
  {
   "cell_type": "markdown",
   "id": "ee718183-4088-4669-b0cb-3f369017df11",
   "metadata": {},
   "source": [
    "# TP2 de robótica"
   ]
  },
  {
   "cell_type": "markdown",
   "id": "82ef2001-9e90-4c27-a7b4-fd452476312e",
   "metadata": {},
   "source": [
    "Caio Teles Cunha 2020006434\n",
    "\n",
    "Ivan "
   ]
  },
  {
   "cell_type": "code",
   "execution_count": 1,
   "id": "6d036f27-d428-47bb-89b8-1a893f30c686",
   "metadata": {},
   "outputs": [],
   "source": [
    "import numpy as np\n",
    "import matplotlib.pyplot as plt\n",
    "from coppeliasim_zmqremoteapi_client import RemoteAPIClient\n",
    "import matplotlib.image as mpimg\n",
    "import matplotlib.patches as patches\n",
    "import networkx as nx\n",
    "from matplotlib.colors import BoundaryNorm\n",
    "from matplotlib.ticker import MaxNLocator"
   ]
  },
  {
   "cell_type": "code",
   "execution_count": 2,
   "id": "51df6e79-de1f-4d58-8740-d5caa275354f",
   "metadata": {},
   "outputs": [],
   "source": [
    "def Rx(theta):\n",
    " \n",
    "    return np.array([[  1, 0            , 0           ],\n",
    "                      [ 0, np.cos(theta),-np.sin(theta)],\n",
    "                      [ 0, np.sin(theta), np.cos(theta)]])\n",
    "  \n",
    "def Ry(theta):\n",
    " \n",
    "    return np.array([[  np.cos(theta), 0, np.sin(theta)],\n",
    "                      [ 0            , 1, 0           ],\n",
    "                      [-np.sin(theta), 0, np.cos(theta)]])\n",
    "\n",
    "\n",
    "def Rz(theta):\n",
    "  \n",
    "    return np.array([[ np.cos(theta), -np.sin(theta), 0 ],\n",
    "                      [ np.sin(theta), np.cos(theta) , 0 ],\n",
    "                      [ 0            , 0             , 1 ]])\n",
    "\n",
    "# Plota um referencial no plano\n",
    "def plot_frame(Porg, R, c=None):\n",
    "\n",
    "    axis_size = 1.0    \n",
    "    axes = axis_size*R\n",
    "    \n",
    "    x_axis = np.array(axes[0:2,0])\n",
    "    y_axis = np.array(axes[0:2,1])\n",
    "    \n",
    "    if c == None:\n",
    "        c = ['r', 'g']\n",
    "    \n",
    "    # X\n",
    "    plt.quiver(*Porg[0:2], *x_axis, color=c[0], angles='xy', scale_units='xy', scale=1)\n",
    "    \n",
    "    # Y\n",
    "    plt.quiver(*Porg[0:2], *y_axis, color=c[1], angles='xy', scale_units='xy', scale=1)"
   ]
  },
  {
   "cell_type": "markdown",
   "id": "c2c36fd2-b989-440f-8a27-8ec35c8f6f07",
   "metadata": {},
   "source": [
    "## Funções para obter posição, angulos de euler e plotar referenciais"
   ]
  },
  {
   "cell_type": "code",
   "execution_count": 3,
   "id": "85330130-8609-477e-9242-e3324670b8e3",
   "metadata": {},
   "outputs": [],
   "source": [
    "def getPosition(handleObject):\n",
    "    position = sim.getObjectPosition(handleObject)\n",
    "    position = np.array(position)\n",
    "    return position"
   ]
  },
  {
   "cell_type": "code",
   "execution_count": 4,
   "id": "d4cc897e-069e-4011-bfda-b9684167810a",
   "metadata": {},
   "outputs": [],
   "source": [
    "def getEulerAngles(handleObject):\n",
    "    eulerAngles = sim.getObjectOrientation(handleObject)\n",
    "    eulerAngles = np.array(eulerAngles)\n",
    "    return eulerAngles"
   ]
  },
  {
   "cell_type": "code",
   "execution_count": 5,
   "id": "fd526128-7695-4b45-ad0d-18df82d61168",
   "metadata": {},
   "outputs": [],
   "source": [
    "def getRelativePosition(handleObject,handleReference):\n",
    "    position = sim.getObjectPosition(handleObject,handleReference)\n",
    "    position = np.array(position)\n",
    "    return position"
   ]
  },
  {
   "cell_type": "code",
   "execution_count": 6,
   "id": "7fc9f205-43a4-443d-8611-5fb85032115c",
   "metadata": {},
   "outputs": [],
   "source": [
    "def getRelativeEulerAngles(handleObject,handleReference):\n",
    "    eulerAngles = sim.getObjectOrientation(handleObject,handleReference)\n",
    "    eulerAngles = np.array(eulerAngles)\n",
    "    return eulerAngles"
   ]
  },
  {
   "cell_type": "code",
   "execution_count": 7,
   "id": "c73b355b-464d-49f6-83ea-d0133895b137",
   "metadata": {},
   "outputs": [],
   "source": [
    "def plotFrame(position,eulerAngles):\n",
    "    # Frame Object\n",
    "    Porg = np.array(position)    \n",
    "    R = Rz(eulerAngles[2])\n",
    "    plot_frame(Porg, R)"
   ]
  },
  {
   "cell_type": "code",
   "execution_count": 8,
   "id": "d18cb83d-2a9f-4346-9b53-5543b7f8a141",
   "metadata": {},
   "outputs": [],
   "source": [
    "# (firstFrame -> second frame)\n",
    "# T (secondFrame,fistFrame)\n",
    "# Ao multiplicar um ponto do primeiro frame, ele se transforma em um ponto em relação\n",
    "# ao segundo frame\n",
    "def getTransformationMatrix(fistFrameHandle,secondFrameHandle):\n",
    "\n",
    "    fistFramePosition = getRelativePosition(fistFrameHandle,secondFrameHandle)\n",
    "    fistFrameOrientation = getRelativeEulerAngles(fistFrameHandle,secondFrameHandle)\n",
    "\n",
    "    Rsf = Rz((fistFrameOrientation[2]))\n",
    "\n",
    "    # Concatena o vetor origem ao final (coluna)\n",
    "    Tsf = np.column_stack((Rsf, fistFramePosition))\n",
    "    # Concatena o vetor auxiliar embaixo (linha)\n",
    "    aux = np.array([0, 0, 0, 1])\n",
    "    Tsf = np.row_stack((Tsf, aux))\n",
    "\n",
    "    return Tsf"
   ]
  },
  {
   "cell_type": "markdown",
   "id": "04554ca2-fdff-46ee-bfae-daa92ec8cebd",
   "metadata": {},
   "source": [
    "## Campos potenciais - Robô Diferencial"
   ]
  },
  {
   "cell_type": "markdown",
   "id": "af41e948-ee4f-4aa5-bfa8-da930265e1fb",
   "metadata": {},
   "source": [
    "### Pegando o mapa e discretizando"
   ]
  },
  {
   "cell_type": "code",
   "execution_count": 9,
   "id": "6a799449-7428-46a9-85af-65fe0b4e7001",
   "metadata": {},
   "outputs": [
    {
     "data": {
      "text/plain": [
       "<matplotlib.image.AxesImage at 0x7b50d95667a0>"
      ]
     },
     "execution_count": 9,
     "metadata": {},
     "output_type": "execute_result"
    },
    {
     "data": {
      "image/png": "[encoded data removed]",
      "text/plain": [
       "<Figure size 800x800 with 1 Axes>"
      ]
     },
     "metadata": {},
     "output_type": "display_data"
    }
   ],
   "source": [
    "fig = plt.figure(figsize=(8,8), dpi=100)\n",
    "ax = fig.add_subplot(111, aspect='equal')\n",
    "\n",
    "# Invertendo os valores para visualização (Branco - 0, Preto - 1)\n",
    "img = 1 - mpimg.imread('img/cave.png')\n",
    "#img = 1 - mpimg.imread('img/maze.png')\n",
    "\n",
    "# Apenas para garantir que só teremos esses dois valores\n",
    "threshold = 0.5\n",
    "img[img > threshold] = 1\n",
    "img[img<= threshold] = 0\n",
    "\n",
    "ax.imshow(img, cmap='Greys', origin='upper')"
   ]
  },
  {
   "cell_type": "code",
   "execution_count": 10,
   "id": "387a64f4-1bfd-4412-a2ef-b0a147e43ab8",
   "metadata": {},
   "outputs": [
    {
     "name": "stdout",
     "output_type": "stream",
     "text": [
      "35\n"
     ]
    },
    {
     "data": {
      "text/plain": [
       "[<matplotlib.axis.YTick at 0x7b50d9436d40>,\n",
       " <matplotlib.axis.YTick at 0x7b50d9437640>,\n",
       " <matplotlib.axis.YTick at 0x7b50d9436710>,\n",
       " <matplotlib.axis.YTick at 0x7b50d905bdc0>,\n",
       " <matplotlib.axis.YTick at 0x7b50d906cc10>,\n",
       " <matplotlib.axis.YTick at 0x7b50d906d6c0>,\n",
       " <matplotlib.axis.YTick at 0x7b50d906e170>,\n",
       " <matplotlib.axis.YTick at 0x7b50d906d030>,\n",
       " <matplotlib.axis.YTick at 0x7b50d906e9e0>,\n",
       " <matplotlib.axis.YTick at 0x7b50d906f490>,\n",
       " <matplotlib.axis.YTick at 0x7b50d906ff40>,\n",
       " <matplotlib.axis.YTick at 0x7b50d906ee00>,\n",
       " <matplotlib.axis.YTick at 0x7b50d903aad0>,\n",
       " <matplotlib.axis.YTick at 0x7b50d9084910>,\n",
       " <matplotlib.axis.YTick at 0x7b50d90853c0>,\n",
       " <matplotlib.axis.YTick at 0x7b50d9085e70>,\n",
       " <matplotlib.axis.YTick at 0x7b50d94bccd0>,\n",
       " <matplotlib.axis.YTick at 0x7b50d9086890>,\n",
       " <matplotlib.axis.YTick at 0x7b50d9087340>,\n",
       " <matplotlib.axis.YTick at 0x7b50d9087df0>,\n",
       " <matplotlib.axis.YTick at 0x7b50d90a48e0>,\n",
       " <matplotlib.axis.YTick at 0x7b50d9084d60>,\n",
       " <matplotlib.axis.YTick at 0x7b50d90a51e0>,\n",
       " <matplotlib.axis.YTick at 0x7b50d90a5c90>,\n",
       " <matplotlib.axis.YTick at 0x7b50d90a6740>,\n",
       " <matplotlib.axis.YTick at 0x7b50d90a71f0>,\n",
       " <matplotlib.axis.YTick at 0x7b50d90a5870>,\n",
       " <matplotlib.axis.YTick at 0x7b50d90a7a60>,\n",
       " <matplotlib.axis.YTick at 0x7b50d90c0550>,\n",
       " <matplotlib.axis.YTick at 0x7b50d90c1000>,\n",
       " <matplotlib.axis.YTick at 0x7b50d90a4e20>,\n",
       " <matplotlib.axis.YTick at 0x7b50d90c1900>,\n",
       " <matplotlib.axis.YTick at 0x7b50d90c23b0>,\n",
       " <matplotlib.axis.YTick at 0x7b50d90c2e60>,\n",
       " <matplotlib.axis.YTick at 0x7b50d90c3910>,\n",
       " <matplotlib.axis.YTick at 0x7b50d90c27d0>]"
      ]
     },
     "execution_count": 10,
     "metadata": {},
     "output_type": "execute_result"
    },
    {
     "data": {
      "image/png": "[encoded data removed]",
      "text/plain": [
       "<Figure size 800x800 with 1 Axes>"
      ]
     },
     "metadata": {},
     "output_type": "display_data"
    }
   ],
   "source": [
    "#np.set_printoptions(threshold=np.inf)\n",
    "# Dimensões do mapa informado em metros (X, Y)\n",
    "map_dims = np.array([70, 70]) # Cave \n",
    "\n",
    "# Escala Pixel/Metro\n",
    "sy, sx = img.shape / map_dims\n",
    "\n",
    "# Tamanho da célula do nosso Grid (em metros)\n",
    "cell_size = 2\n",
    "\n",
    "rows, cols = (map_dims / cell_size).astype(int)\n",
    "print(rows)\n",
    "grid = np.zeros((rows, cols))\n",
    "\n",
    "# Preenchendo o Grid\n",
    "# Cada célula recebe o somatório dos valores dos Pixels\n",
    "for r in range(rows):\n",
    "    for c in range(cols):\n",
    "        \n",
    "        xi = int(c*cell_size*sx)\n",
    "        xf = int(xi + cell_size*sx)\n",
    "        \n",
    "        yi = int(r*cell_size*sy)\n",
    "        yf = int(yi + cell_size*sy)\n",
    "                      \n",
    "        grid[r, c] = np.sum(img[yi:yf,xi:xf])\n",
    "        \n",
    "# Binarizando as células como Ocupadas (999) ou Não-ocupadas (0)       \n",
    "grid[grid > threshold] = 999\n",
    "grid[grid<= threshold] = 0\n",
    "\n",
    "#print(grid)\n",
    "#print(grid[5][7])\n",
    "\n",
    "fig = plt.figure(figsize=(8,8), dpi=100)\n",
    "ax = fig.add_subplot(111, aspect='equal')\n",
    "\n",
    "# Plotando Mapa e Células\n",
    "obj = ax.imshow(img, cmap='Greys', extent=(0, map_dims[1], 0, map_dims[0]), origin='upper')\n",
    "obj = ax.imshow(grid, cmap='Reds', extent=(0, map_dims[1], 0, map_dims[0]), alpha=.6)\n",
    "\n",
    "# Plotando as linhas do grid para facilitar a visualização\n",
    "ax.grid(which='major', axis='both', linestyle='-', color='r', linewidth=1)\n",
    "ax.set_xticks(np.arange(0, map_dims[1]+1, cell_size))\n",
    "ax.set_yticks(np.arange(0, map_dims[0]+1, cell_size))"
   ]
  },
  {
   "cell_type": "markdown",
   "id": "2758b1b2-1c3e-4143-8b4d-1a68a30fd57f",
   "metadata": {},
   "source": [
    "### Algoritmo de wavefront"
   ]
  },
  {
   "cell_type": "markdown",
   "id": "bf4a7996-5f45-492a-aef5-e5bee9a63ba9",
   "metadata": {},
   "source": [
    "A premissa é que conhecemos o mapa do ambiente e o goal. Assim, a partir do goal, vamos acrescentar um potencial aos vizinhos de modo que cada ponto no mapa tenha um potencial. A vantagem desse modo é que ele impede minímos locais que poderiam atrapalhar o robô a chegar na posição objetivo."
   ]
  },
  {
   "cell_type": "code",
   "execution_count": 11,
   "id": "1075f315-a6f7-4ab4-8b71-7b2d415bb234",
   "metadata": {},
   "outputs": [],
   "source": [
    "def wavefront(goal,grid):\n",
    "\n",
    "    neighboorsPosition = [[-1,+1],[0,+1],[+1,+1],[-1,0],[+1,0],[-1,-1],[0,-1],[+1,-1]]\n",
    "    \n",
    "    q = []\n",
    "    q.append(goal)\n",
    "    \n",
    "    potentialGrid = np.copy(grid)\n",
    "    while len(q) != 0:\n",
    "        point = q.pop(0)\n",
    "        x = point[0]\n",
    "        y = point[1]\n",
    "        potential = potentialGrid[x][y]\n",
    "        for px,py in neighboorsPosition:\n",
    "            neighboorX = px + x\n",
    "            neighboorY = py + y\n",
    "            if neighboorX > rows-1 or neighboorY > cols-1:\n",
    "                continue\n",
    "            if neighboorX < 0 or neighboorY < 0:\n",
    "                continue\n",
    "            if neighboorX == goal[0] and neighboorY == goal[1]:\n",
    "                continue\n",
    "            if potentialGrid[neighboorX][neighboorY] == 0:\n",
    "                potentialGrid[neighboorX][neighboorY] = potential + 1\n",
    "                q.append([x+px,y+py])\n",
    "    return potentialGrid"
   ]
  },
  {
   "cell_type": "markdown",
   "id": "1abb2ba1-7ca8-450d-8c2d-ed219204fbab",
   "metadata": {},
   "source": [
    "Setando o objetivo para a posição (0,0) por exemplo:"
   ]
  },
  {
   "cell_type": "code",
   "execution_count": 12,
   "id": "795a5e63-2cf8-4f74-aa6f-55e07088b519",
   "metadata": {},
   "outputs": [
    {
     "data": {
      "text/plain": [
       "<matplotlib.colorbar.Colorbar at 0x7b50d9038e50>"
      ]
     },
     "execution_count": 12,
     "metadata": {},
     "output_type": "execute_result"
    },
    {
     "data": {
      "image/png": "[encoded data removed]",
      "text/plain": [
       "<Figure size 640x480 with 2 Axes>"
      ]
     },
     "metadata": {},
     "output_type": "display_data"
    }
   ],
   "source": [
    "goal = np.array([0,0])\n",
    "potentialGrid = wavefront(goal,grid)\n",
    "plt.imshow(potentialGrid, origin='upper', vmin=0, vmax=70)\n",
    "\n",
    "ax.set_xticks(np.arange(0, cols, cell_size))\n",
    "ax.set_yticks(np.arange(0, rows, cell_size))\n",
    "\n",
    "plt.colorbar()\n"
   ]
  },
  {
   "cell_type": "markdown",
   "id": "5f913d10-d28d-483f-bc6c-0a1f7f0c32f6",
   "metadata": {},
   "source": [
    "Dessa forma, o robô em qualquer posição desse grid de potencial conseguiria chegar ao goal saindo da célula em que se encontra para alguma célula vizinha de potencial menor. Vale destacar que foi utilizado uma vizinhança de 8, ou seja, assume que o robô se movimentar de maneira diagonal não é um problema. "
   ]
  },
  {
   "cell_type": "markdown",
   "id": "4763f21d-4fe6-4f94-b23b-2afc61b77937",
   "metadata": {},
   "source": [
    "### Algoritmo de Encontrar o caminho"
   ]
  },
  {
   "cell_type": "code",
   "execution_count": 13,
   "id": "c3f8ed0d-fb91-4679-b680-e0357ddbd270",
   "metadata": {},
   "outputs": [],
   "source": [
    "def findPath(robotPosition,goal,potentialGrid):\n",
    "    neighboorsPosition = [[-1,+1],[0,+1],[+1,+1],[-1,0],[+1,0],[-1,-1],[0,-1],[+1,-1]]\n",
    "    q = []\n",
    "    q.append(robotPosition)\n",
    "\n",
    "    path = []\n",
    "    \n",
    "    while len(q) != 0:\n",
    "        point = q.pop(0)\n",
    "        x = point[0]\n",
    "        y = point[1]\n",
    "        potential = potentialGrid[x][y]\n",
    "        for px,py in neighboorsPosition:\n",
    "            neighboorX = px + x\n",
    "            neighboorY = py + y\n",
    "            if neighboorX > rows-1 or neighboorY > cols-1:\n",
    "                continue\n",
    "            if neighboorX < 0 or neighboorY < 0:\n",
    "                continue\n",
    "            if potentialGrid[neighboorX][neighboorY] < potential:\n",
    "                q.append([x+px,y+py])\n",
    "                path.append([x+px,y+py])\n",
    "                break\n",
    "    return path"
   ]
  },
  {
   "cell_type": "markdown",
   "id": "9d34c2b1-73cd-49be-8712-e57ada6aba45",
   "metadata": {},
   "source": [
    "Teste com o robô na posição (34,34) e o objetivo na posição (0,0)"
   ]
  },
  {
   "cell_type": "code",
   "execution_count": 14,
   "id": "bae7598b-a5cd-43ac-9a21-b6d846369eae",
   "metadata": {},
   "outputs": [
    {
     "name": "stdout",
     "output_type": "stream",
     "text": [
      "[[19, 19], [18, 18], [18, 17], [18, 16], [18, 15], [17, 14], [16, 13], [15, 12], [15, 11], [15, 10], [14, 9], [13, 8], [12, 8], [11, 8], [10, 8], [9, 9], [8, 8], [7, 7], [6, 6], [5, 5], [4, 4], [3, 3], [2, 2], [1, 1], [0, 0]]\n"
     ]
    }
   ],
   "source": [
    "robotPosition = np.array([20,20])\n",
    "goal = np.array([0,0])\n",
    "path = findPath(robotPosition,goal,potentialGrid)\n",
    "print(path)"
   ]
  },
  {
   "cell_type": "markdown",
   "id": "b3d6d666-1ad0-4c5c-9ba5-47563f24d02c",
   "metadata": {},
   "source": [
    "Colocando no colormap para fácil visualização"
   ]
  },
  {
   "cell_type": "code",
   "execution_count": 15,
   "id": "5c225fa9-9381-43f0-abd2-d8fc4796ccbb",
   "metadata": {},
   "outputs": [
    {
     "data": {
      "image/png": "[encoded data removed]",
      "text/plain": [
       "<Figure size 640x480 with 1 Axes>"
      ]
     },
     "metadata": {},
     "output_type": "display_data"
    }
   ],
   "source": [
    "pathGrid = np.copy(potentialGrid)\n",
    "for x,y in path:\n",
    "    pathGrid[x][y] = -1\n",
    "\n",
    "value = -1\n",
    "\n",
    "masked_array = np.ma.masked_where(pathGrid == value, pathGrid)\n",
    "\n",
    "cmap = plt.cm.viridis  # Can be any colormap that you want after the cm\n",
    "cmap.set_bad(color='red')\n",
    "\n",
    "plt.imshow(masked_array, cmap=cmap)\n",
    "plt.show()"
   ]
  },
  {
   "cell_type": "markdown",
   "id": "e4de2297-45c0-4ad8-becd-bfca689693e7",
   "metadata": {},
   "source": [
    "### Controlador"
   ]
  },
  {
   "cell_type": "markdown",
   "id": "dca26a96-4dfa-47d2-adc4-16b822690d8b",
   "metadata": {},
   "source": [
    "Como se trata da implementação de um robô diferencial precisamos implementar um controlador para sua correta execução. O controlador escolhido foi ([De Luca e Oriolo, 1994])."
   ]
  },
  {
   "cell_type": "code",
   "execution_count": 17,
   "id": "71949ea6-369e-4c3d-bc25-aa36870d10ea",
   "metadata": {},
   "outputs": [
    {
     "name": "stdout",
     "output_type": "stream",
     "text": [
      "Program started\n",
      "Program ended\n"
     ]
    }
   ],
   "source": [
    "print ('Program started')\n",
    "client = RemoteAPIClient()\n",
    "sim = client.require('sim')\n",
    "sim.startSimulation()\n",
    "\n",
    "# Handle para as juntas das RODAS\n",
    "l_wheel = sim.getObject(\"/Pioneer_p3dx/Pioneer_p3dx_leftMotor\")\n",
    "r_wheel = sim.getObject(\"/Pioneer_p3dx/Pioneer_p3dx_rightMotor\")\n",
    "\n",
    "# Handle do Robo\n",
    "robotHandle = sim.getObject(\"/Pioneer_p3dx\")\n",
    "\n",
    "# Esse ponto é a posição do robô em relação ao mundo\n",
    "robotPosition = getPosition(robotHandle)\n",
    "\n",
    "# World Handle \n",
    "worldHandle = sim.handle_world\n",
    "\n",
    "# Goal position (x, y)\n",
    "pgoal = np.array([0, 0])\n",
    "\n",
    "# Dados do Pioneer\n",
    "L = 0.381   # Metros\n",
    "r = 0.0975  # Metros\n",
    "maxv = 1.0\n",
    "maxw = np.deg2rad(45)\n",
    "rho = np.inf\n",
    "\n",
    "while rho > .05:\n",
    "\n",
    "    # Fazendo a leitura da posição\n",
    "    # Esse ponto é a posição do robô em relação ao mundo\n",
    "    robotPosition = getPosition(robotHandle)\n",
    "\n",
    "    # Fazendo a leitura da orientação\n",
    "    robotOrientation = getEulerAngles(robotHandle)\n",
    "\n",
    "    robotConfig = np.array([robotPosition[0], robotPosition[1], robotOrientation[2]])\n",
    "\n",
    "    dx, dy = pgoal - robotConfig[:2]\n",
    "\n",
    "    # Apenas para interromper o loop\n",
    "    rho = np.sqrt(dx**2 + dy**2)\n",
    "\n",
    "    kr = 1\n",
    "    kt = 2\n",
    "    \n",
    "    v = kr*(dx*np.cos(robotConfig[2]) + dy*np.sin(robotConfig[2]))\n",
    "    w = kt*(np.arctan2(dy,dx) - robotConfig[2])\n",
    "\n",
    "    # Limit v,w to +/- max\n",
    "    v = max(min(v, maxv), -maxv)\n",
    "    w = max(min(w, maxw), -maxw)\n",
    "\n",
    "    vr = ((2.0*v) + (w*L))/(2.0*r)\n",
    "    vl = ((2.0*v) - (w*L))/(2.0*r)\n",
    "    \n",
    "    # Enviando velocidades\n",
    "    sim.setJointTargetVelocity(l_wheel, vl)\n",
    "    sim.setJointTargetVelocity(r_wheel, vr)\n",
    "    sim.step()\n",
    "\n",
    "# Parando o robô    \n",
    "sim.setJointTargetVelocity(r_wheel, 0)\n",
    "sim.setJointTargetVelocity(l_wheel, 0)    \n",
    "\n",
    "sim.stopSimulation()\n",
    "print ('Program ended')"
   ]
  },
  {
   "cell_type": "code",
   "execution_count": null,
   "id": "d1ae52d5-7e7b-4963-a012-78aebe0d124b",
   "metadata": {},
   "outputs": [],
   "source": []
  }
 ],
 "metadata": {
  "kernelspec": {
   "display_name": "Python 3 (ipykernel)",
   "language": "python",
   "name": "python3"
  },
  "language_info": {
   "codemirror_mode": {
    "name": "ipython",
    "version": 3
   },
   "file_extension": ".py",
   "mimetype": "text/x-python",
   "name": "python",
   "nbconvert_exporter": "python",
   "pygments_lexer": "ipython3",
   "version": "3.10.12"
  }
 },
 "nbformat": 4,
 "nbformat_minor": 5
}
