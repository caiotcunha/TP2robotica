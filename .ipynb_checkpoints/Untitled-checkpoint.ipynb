{
 "cells": [
  {
   "cell_type": "markdown",
   "id": "ee718183-4088-4669-b0cb-3f369017df11",
   "metadata": {},
   "source": [
    "# TP2 de robótica"
   ]
  },
  {
   "cell_type": "markdown",
   "id": "82ef2001-9e90-4c27-a7b4-fd452476312e",
   "metadata": {},
   "source": [
    "Caio Teles Cunha 2020006434\n",
    "\n",
    "Ivan "
   ]
  },
  {
   "cell_type": "code",
   "execution_count": 1,
   "id": "6d036f27-d428-47bb-89b8-1a893f30c686",
   "metadata": {},
   "outputs": [],
   "source": [
    "import numpy as np\n",
    "import matplotlib.pyplot as plt\n",
    "from coppeliasim_zmqremoteapi_client import RemoteAPIClient\n",
    "import matplotlib.image as mpimg\n",
    "import networkx as nx"
   ]
  },
  {
   "cell_type": "code",
   "execution_count": 2,
   "id": "51df6e79-de1f-4d58-8740-d5caa275354f",
   "metadata": {},
   "outputs": [],
   "source": [
    "def Rx(theta):\n",
    " \n",
    "    return np.array([[  1, 0            , 0           ],\n",
    "                      [ 0, np.cos(theta),-np.sin(theta)],\n",
    "                      [ 0, np.sin(theta), np.cos(theta)]])\n",
    "  \n",
    "def Ry(theta):\n",
    " \n",
    "    return np.array([[  np.cos(theta), 0, np.sin(theta)],\n",
    "                      [ 0            , 1, 0           ],\n",
    "                      [-np.sin(theta), 0, np.cos(theta)]])\n",
    "\n",
    "\n",
    "def Rz(theta):\n",
    "  \n",
    "    return np.array([[ np.cos(theta), -np.sin(theta), 0 ],\n",
    "                      [ np.sin(theta), np.cos(theta) , 0 ],\n",
    "                      [ 0            , 0             , 1 ]])\n",
    "\n",
    "# Plota um referencial no plano\n",
    "def plot_frame(Porg, R, c=None):\n",
    "\n",
    "    axis_size = 1.0    \n",
    "    axes = axis_size*R\n",
    "    \n",
    "    x_axis = np.array(axes[0:2,0])\n",
    "    y_axis = np.array(axes[0:2,1])\n",
    "    \n",
    "    if c == None:\n",
    "        c = ['r', 'g']\n",
    "    \n",
    "    # X\n",
    "    plt.quiver(*Porg[0:2], *x_axis, color=c[0], angles='xy', scale_units='xy', scale=1)\n",
    "    \n",
    "    # Y\n",
    "    plt.quiver(*Porg[0:2], *y_axis, color=c[1], angles='xy', scale_units='xy', scale=1)"
   ]
  },
  {
   "cell_type": "markdown",
   "id": "c2c36fd2-b989-440f-8a27-8ec35c8f6f07",
   "metadata": {},
   "source": [
    "## Funções para obter posição, angulos de euler e plotar referenciais"
   ]
  },
  {
   "cell_type": "code",
   "execution_count": 3,
   "id": "85330130-8609-477e-9242-e3324670b8e3",
   "metadata": {},
   "outputs": [],
   "source": [
    "def getPosition(handleObject):\n",
    "    position = sim.getObjectPosition(handleObject)\n",
    "    position = np.array(position)\n",
    "    return position"
   ]
  },
  {
   "cell_type": "code",
   "execution_count": 4,
   "id": "d4cc897e-069e-4011-bfda-b9684167810a",
   "metadata": {},
   "outputs": [],
   "source": [
    "def getEulerAngles(handleObject):\n",
    "    eulerAngles = sim.getObjectOrientation(handleObject)\n",
    "    eulerAngles = np.array(eulerAngles)\n",
    "    return eulerAngles"
   ]
  },
  {
   "cell_type": "code",
   "execution_count": 5,
   "id": "fd526128-7695-4b45-ad0d-18df82d61168",
   "metadata": {},
   "outputs": [],
   "source": [
    "def getRelativePosition(handleObject,handleReference):\n",
    "    position = sim.getObjectPosition(handleObject,handleReference)\n",
    "    position = np.array(position)\n",
    "    return position"
   ]
  },
  {
   "cell_type": "code",
   "execution_count": 6,
   "id": "7fc9f205-43a4-443d-8611-5fb85032115c",
   "metadata": {},
   "outputs": [],
   "source": [
    "def getRelativeEulerAngles(handleObject,handleReference):\n",
    "    eulerAngles = sim.getObjectOrientation(handleObject,handleReference)\n",
    "    eulerAngles = np.array(eulerAngles)\n",
    "    return eulerAngles"
   ]
  },
  {
   "cell_type": "code",
   "execution_count": 7,
   "id": "c73b355b-464d-49f6-83ea-d0133895b137",
   "metadata": {},
   "outputs": [],
   "source": [
    "def plotFrame(position,eulerAngles):\n",
    "    # Frame Object\n",
    "    Porg = np.array(position)    \n",
    "    R = Rz(eulerAngles[2])\n",
    "    plot_frame(Porg, R)"
   ]
  },
  {
   "cell_type": "code",
   "execution_count": 8,
   "id": "d18cb83d-2a9f-4346-9b53-5543b7f8a141",
   "metadata": {},
   "outputs": [],
   "source": [
    "# (firstFrame -> second frame)\n",
    "# T (secondFrame,fistFrame)\n",
    "# Ao multiplicar um ponto do primeiro frame, ele se transforma em um ponto em relação\n",
    "# ao segundo frame\n",
    "def getTransformationMatrix(fistFrameHandle,secondFrameHandle):\n",
    "\n",
    "    fistFramePosition = getRelativePosition(fistFrameHandle,secondFrameHandle)\n",
    "    fistFrameOrientation = getRelativeEulerAngles(fistFrameHandle,secondFrameHandle)\n",
    "\n",
    "    Rsf = Rz((fistFrameOrientation[2]))\n",
    "\n",
    "    # Concatena o vetor origem ao final (coluna)\n",
    "    Tsf = np.column_stack((Rsf, fistFramePosition))\n",
    "    # Concatena o vetor auxiliar embaixo (linha)\n",
    "    aux = np.array([0, 0, 0, 1])\n",
    "    Tsf = np.row_stack((Tsf, aux))\n",
    "\n",
    "    return Tsf"
   ]
  },
  {
   "cell_type": "markdown",
   "id": "04554ca2-fdff-46ee-bfae-daa92ec8cebd",
   "metadata": {},
   "source": [
    "## Campos potenciais - Robô Diferencial"
   ]
  },
  {
   "cell_type": "markdown",
   "id": "af41e948-ee4f-4aa5-bfa8-da930265e1fb",
   "metadata": {},
   "source": [
    "### Pegando o mapa e discretizando"
   ]
  },
  {
   "cell_type": "code",
   "execution_count": 9,
   "id": "6a799449-7428-46a9-85af-65fe0b4e7001",
   "metadata": {},
   "outputs": [
    {
     "data": {
      "text/plain": [
       "<matplotlib.image.AxesImage at 0x7783dc7f61d0>"
      ]
     },
     "execution_count": 9,
     "metadata": {},
     "output_type": "execute_result"
    },
    {
     "data": {
      "image/png": "[encoded data removed]",
      "text/plain": [
       "<Figure size 800x800 with 1 Axes>"
      ]
     },
     "metadata": {},
     "output_type": "display_data"
    }
   ],
   "source": [
    "fig = plt.figure(figsize=(8,8), dpi=100)\n",
    "ax = fig.add_subplot(111, aspect='equal')\n",
    "\n",
    "# Invertendo os valores para visualização (Branco - 0, Preto - 1)\n",
    "img = 1 - mpimg.imread('img/cave.png')\n",
    "#img = 1 - mpimg.imread('img/maze.png')\n",
    "\n",
    "# Apenas para garantir que só teremos esses dois valores\n",
    "threshold = 0.5\n",
    "img[img > threshold] = 1\n",
    "img[img<= threshold] = 0\n",
    "\n",
    "ax.imshow(img, cmap='Greys', origin='upper')"
   ]
  },
  {
   "cell_type": "code",
   "execution_count": null,
   "id": "f5dc6f7c-0340-4f1a-b389-5d488c2d1ceb",
   "metadata": {},
   "outputs": [
    {
     "name": "stdout",
     "output_type": "stream",
     "text": [
      "Program started\n"
     ]
    }
   ],
   "source": [
    "print ('Program started')\n",
    "client = RemoteAPIClient()\n",
    "sim = client.require('sim')\n",
    "sim.startSimulation()\n",
    "\n",
    "sim.stopSimulation()\n",
    "print ('Program ended')"
   ]
  }
 ],
 "metadata": {
  "kernelspec": {
   "display_name": "Python 3 (ipykernel)",
   "language": "python",
   "name": "python3"
  },
  "language_info": {
   "codemirror_mode": {
    "name": "ipython",
    "version": 3
   },
   "file_extension": ".py",
   "mimetype": "text/x-python",
   "name": "python",
   "nbconvert_exporter": "python",
   "pygments_lexer": "ipython3",
   "version": "3.10.12"
  }
 },
 "nbformat": 4,
 "nbformat_minor": 5
}
